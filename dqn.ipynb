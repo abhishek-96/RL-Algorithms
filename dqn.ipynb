{
  "nbformat": 4,
  "nbformat_minor": 0,
  "metadata": {
    "colab": {
      "name": "hw3_q3_dqn",
      "provenance": [],
      "collapsed_sections": [],
      "toc_visible": true
    },
    "kernelspec": {
      "name": "python3",
      "display_name": "Python 3"
    },
    "accelerator": "GPU"
  },
  "cells": [
    {
      "cell_type": "code",
      "metadata": {
        "id": "7gPNCQCaB398"
      },
      "source": [
        "import sys\n",
        "import argparse\n",
        "import numpy as np\n",
        "import os\n",
        "import torch\n",
        "import torch.nn as nn\n",
        "import torch.nn.functional as F\n",
        "from torch.distributions import Categorical\n",
        "from datetime import datetime\n",
        "import gym\n",
        "import matplotlib\n",
        "from tqdm import tqdm\n",
        "from collections import deque\n",
        "from random import sample\n",
        "matplotlib.use('Agg')\n",
        "%matplotlib inline\n",
        "import matplotlib.pyplot as plt"
      ],
      "execution_count": 1,
      "outputs": []
    },
    {
      "cell_type": "code",
      "metadata": {
        "id": "4CQFsfQUCjVh",
        "outputId": "26ca34dc-466e-457a-93f6-1ba0805b1368",
        "colab": {
          "base_uri": "https://localhost:8080/"
        }
      },
      "source": [
        "device = torch.device(\"cuda\" if torch.cuda.is_available() else \"cpu\")\n",
        "device"
      ],
      "execution_count": null,
      "outputs": [
        {
          "output_type": "execute_result",
          "data": {
            "text/plain": [
              "device(type='cuda')"
            ]
          },
          "metadata": {
            "tags": []
          },
          "execution_count": 2
        }
      ]
    },
    {
      "cell_type": "code",
      "metadata": {
        "id": "6OgrtkJpmamk",
        "outputId": "da64584e-909b-4556-bfa6-2a7416e3472c",
        "colab": {
          "base_uri": "https://localhost:8080/"
        }
      },
      "source": [
        "!nvidia-smi"
      ],
      "execution_count": null,
      "outputs": [
        {
          "output_type": "stream",
          "text": [
            "Tue Nov  3 01:20:33 2020       \n",
            "+-----------------------------------------------------------------------------+\n",
            "| NVIDIA-SMI 455.32.00    Driver Version: 418.67       CUDA Version: 10.1     |\n",
            "|-------------------------------+----------------------+----------------------+\n",
            "| GPU  Name        Persistence-M| Bus-Id        Disp.A | Volatile Uncorr. ECC |\n",
            "| Fan  Temp  Perf  Pwr:Usage/Cap|         Memory-Usage | GPU-Util  Compute M. |\n",
            "|                               |                      |               MIG M. |\n",
            "|===============================+======================+======================|\n",
            "|   0  Tesla T4            Off  | 00000000:00:04.0 Off |                    0 |\n",
            "| N/A   65C    P8    18W /  70W |     10MiB / 15079MiB |      0%      Default |\n",
            "|                               |                      |                 ERR! |\n",
            "+-------------------------------+----------------------+----------------------+\n",
            "                                                                               \n",
            "+-----------------------------------------------------------------------------+\n",
            "| Processes:                                                                  |\n",
            "|  GPU   GI   CI        PID   Type   Process name                  GPU Memory |\n",
            "|        ID   ID                                                   Usage      |\n",
            "|=============================================================================|\n",
            "|  No running processes found                                                 |\n",
            "+-----------------------------------------------------------------------------+\n"
          ],
          "name": "stdout"
        }
      ]
    },
    {
      "cell_type": "code",
      "metadata": {
        "id": "S0A8AJr3Ckvg",
        "outputId": "c382f1fe-0a96-4a1c-ff17-99d5ddaf7401",
        "colab": {
          "base_uri": "https://localhost:8080/"
        }
      },
      "source": [
        "!pip install Box2D"
      ],
      "execution_count": null,
      "outputs": [
        {
          "output_type": "stream",
          "text": [
            "Collecting Box2D\n",
            "\u001b[?25l  Downloading https://files.pythonhosted.org/packages/a9/0b/d48d42dd9e19ce83a3fb4eee074e785b6c6ea612a2244dc2ef69427d338b/Box2D-2.3.10-cp36-cp36m-manylinux1_x86_64.whl (1.3MB)\n",
            "\r\u001b[K     |▎                               | 10kB 22.1MB/s eta 0:00:01\r\u001b[K     |▌                               | 20kB 18.8MB/s eta 0:00:01\r\u001b[K     |▊                               | 30kB 13.8MB/s eta 0:00:01\r\u001b[K     |█                               | 40kB 11.3MB/s eta 0:00:01\r\u001b[K     |█▎                              | 51kB 10.8MB/s eta 0:00:01\r\u001b[K     |█▌                              | 61kB 9.8MB/s eta 0:00:01\r\u001b[K     |█▊                              | 71kB 10.5MB/s eta 0:00:01\r\u001b[K     |██                              | 81kB 10.5MB/s eta 0:00:01\r\u001b[K     |██▎                             | 92kB 10.2MB/s eta 0:00:01\r\u001b[K     |██▌                             | 102kB 10.3MB/s eta 0:00:01\r\u001b[K     |██▊                             | 112kB 10.3MB/s eta 0:00:01\r\u001b[K     |███                             | 122kB 10.3MB/s eta 0:00:01\r\u001b[K     |███▏                            | 133kB 10.3MB/s eta 0:00:01\r\u001b[K     |███▌                            | 143kB 10.3MB/s eta 0:00:01\r\u001b[K     |███▊                            | 153kB 10.3MB/s eta 0:00:01\r\u001b[K     |████                            | 163kB 10.3MB/s eta 0:00:01\r\u001b[K     |████▏                           | 174kB 10.3MB/s eta 0:00:01\r\u001b[K     |████▌                           | 184kB 10.3MB/s eta 0:00:01\r\u001b[K     |████▊                           | 194kB 10.3MB/s eta 0:00:01\r\u001b[K     |█████                           | 204kB 10.3MB/s eta 0:00:01\r\u001b[K     |█████▏                          | 215kB 10.3MB/s eta 0:00:01\r\u001b[K     |█████▌                          | 225kB 10.3MB/s eta 0:00:01\r\u001b[K     |█████▊                          | 235kB 10.3MB/s eta 0:00:01\r\u001b[K     |██████                          | 245kB 10.3MB/s eta 0:00:01\r\u001b[K     |██████▏                         | 256kB 10.3MB/s eta 0:00:01\r\u001b[K     |██████▍                         | 266kB 10.3MB/s eta 0:00:01\r\u001b[K     |██████▊                         | 276kB 10.3MB/s eta 0:00:01\r\u001b[K     |███████                         | 286kB 10.3MB/s eta 0:00:01\r\u001b[K     |███████▏                        | 296kB 10.3MB/s eta 0:00:01\r\u001b[K     |███████▍                        | 307kB 10.3MB/s eta 0:00:01\r\u001b[K     |███████▊                        | 317kB 10.3MB/s eta 0:00:01\r\u001b[K     |████████                        | 327kB 10.3MB/s eta 0:00:01\r\u001b[K     |████████▏                       | 337kB 10.3MB/s eta 0:00:01\r\u001b[K     |████████▍                       | 348kB 10.3MB/s eta 0:00:01\r\u001b[K     |████████▊                       | 358kB 10.3MB/s eta 0:00:01\r\u001b[K     |█████████                       | 368kB 10.3MB/s eta 0:00:01\r\u001b[K     |█████████▏                      | 378kB 10.3MB/s eta 0:00:01\r\u001b[K     |█████████▍                      | 389kB 10.3MB/s eta 0:00:01\r\u001b[K     |█████████▋                      | 399kB 10.3MB/s eta 0:00:01\r\u001b[K     |██████████                      | 409kB 10.3MB/s eta 0:00:01\r\u001b[K     |██████████▏                     | 419kB 10.3MB/s eta 0:00:01\r\u001b[K     |██████████▍                     | 430kB 10.3MB/s eta 0:00:01\r\u001b[K     |██████████▋                     | 440kB 10.3MB/s eta 0:00:01\r\u001b[K     |███████████                     | 450kB 10.3MB/s eta 0:00:01\r\u001b[K     |███████████▏                    | 460kB 10.3MB/s eta 0:00:01\r\u001b[K     |███████████▍                    | 471kB 10.3MB/s eta 0:00:01\r\u001b[K     |███████████▋                    | 481kB 10.3MB/s eta 0:00:01\r\u001b[K     |████████████                    | 491kB 10.3MB/s eta 0:00:01\r\u001b[K     |████████████▏                   | 501kB 10.3MB/s eta 0:00:01\r\u001b[K     |████████████▍                   | 512kB 10.3MB/s eta 0:00:01\r\u001b[K     |████████████▋                   | 522kB 10.3MB/s eta 0:00:01\r\u001b[K     |████████████▉                   | 532kB 10.3MB/s eta 0:00:01\r\u001b[K     |█████████████▏                  | 542kB 10.3MB/s eta 0:00:01\r\u001b[K     |█████████████▍                  | 552kB 10.3MB/s eta 0:00:01\r\u001b[K     |█████████████▋                  | 563kB 10.3MB/s eta 0:00:01\r\u001b[K     |█████████████▉                  | 573kB 10.3MB/s eta 0:00:01\r\u001b[K     |██████████████▏                 | 583kB 10.3MB/s eta 0:00:01\r\u001b[K     |██████████████▍                 | 593kB 10.3MB/s eta 0:00:01\r\u001b[K     |██████████████▋                 | 604kB 10.3MB/s eta 0:00:01\r\u001b[K     |██████████████▉                 | 614kB 10.3MB/s eta 0:00:01\r\u001b[K     |███████████████▏                | 624kB 10.3MB/s eta 0:00:01\r\u001b[K     |███████████████▍                | 634kB 10.3MB/s eta 0:00:01\r\u001b[K     |███████████████▋                | 645kB 10.3MB/s eta 0:00:01\r\u001b[K     |███████████████▉                | 655kB 10.3MB/s eta 0:00:01\r\u001b[K     |████████████████                | 665kB 10.3MB/s eta 0:00:01\r\u001b[K     |████████████████▍               | 675kB 10.3MB/s eta 0:00:01\r\u001b[K     |████████████████▋               | 686kB 10.3MB/s eta 0:00:01\r\u001b[K     |████████████████▉               | 696kB 10.3MB/s eta 0:00:01\r\u001b[K     |█████████████████               | 706kB 10.3MB/s eta 0:00:01\r\u001b[K     |█████████████████▍              | 716kB 10.3MB/s eta 0:00:01\r\u001b[K     |█████████████████▋              | 727kB 10.3MB/s eta 0:00:01\r\u001b[K     |█████████████████▉              | 737kB 10.3MB/s eta 0:00:01\r\u001b[K     |██████████████████              | 747kB 10.3MB/s eta 0:00:01\r\u001b[K     |██████████████████▎             | 757kB 10.3MB/s eta 0:00:01\r\u001b[K     |██████████████████▋             | 768kB 10.3MB/s eta 0:00:01\r\u001b[K     |██████████████████▉             | 778kB 10.3MB/s eta 0:00:01\r\u001b[K     |███████████████████             | 788kB 10.3MB/s eta 0:00:01\r\u001b[K     |███████████████████▎            | 798kB 10.3MB/s eta 0:00:01\r\u001b[K     |███████████████████▋            | 808kB 10.3MB/s eta 0:00:01\r\u001b[K     |███████████████████▉            | 819kB 10.3MB/s eta 0:00:01\r\u001b[K     |████████████████████            | 829kB 10.3MB/s eta 0:00:01\r\u001b[K     |████████████████████▎           | 839kB 10.3MB/s eta 0:00:01\r\u001b[K     |████████████████████▋           | 849kB 10.3MB/s eta 0:00:01\r\u001b[K     |████████████████████▉           | 860kB 10.3MB/s eta 0:00:01\r\u001b[K     |█████████████████████           | 870kB 10.3MB/s eta 0:00:01\r\u001b[K     |█████████████████████▎          | 880kB 10.3MB/s eta 0:00:01\r\u001b[K     |█████████████████████▌          | 890kB 10.3MB/s eta 0:00:01\r\u001b[K     |█████████████████████▉          | 901kB 10.3MB/s eta 0:00:01\r\u001b[K     |██████████████████████          | 911kB 10.3MB/s eta 0:00:01\r\u001b[K     |██████████████████████▎         | 921kB 10.3MB/s eta 0:00:01\r\u001b[K     |██████████████████████▌         | 931kB 10.3MB/s eta 0:00:01\r\u001b[K     |██████████████████████▉         | 942kB 10.3MB/s eta 0:00:01\r\u001b[K     |███████████████████████         | 952kB 10.3MB/s eta 0:00:01\r\u001b[K     |███████████████████████▎        | 962kB 10.3MB/s eta 0:00:01\r\u001b[K     |███████████████████████▌        | 972kB 10.3MB/s eta 0:00:01\r\u001b[K     |███████████████████████▉        | 983kB 10.3MB/s eta 0:00:01\r\u001b[K     |████████████████████████        | 993kB 10.3MB/s eta 0:00:01\r\u001b[K     |████████████████████████▎       | 1.0MB 10.3MB/s eta 0:00:01\r\u001b[K     |████████████████████████▌       | 1.0MB 10.3MB/s eta 0:00:01\r\u001b[K     |████████████████████████▊       | 1.0MB 10.3MB/s eta 0:00:01\r\u001b[K     |█████████████████████████       | 1.0MB 10.3MB/s eta 0:00:01\r\u001b[K     |█████████████████████████▎      | 1.0MB 10.3MB/s eta 0:00:01\r\u001b[K     |█████████████████████████▌      | 1.1MB 10.3MB/s eta 0:00:01\r\u001b[K     |█████████████████████████▊      | 1.1MB 10.3MB/s eta 0:00:01\r\u001b[K     |██████████████████████████      | 1.1MB 10.3MB/s eta 0:00:01\r\u001b[K     |██████████████████████████▎     | 1.1MB 10.3MB/s eta 0:00:01\r\u001b[K     |██████████████████████████▌     | 1.1MB 10.3MB/s eta 0:00:01\r\u001b[K     |██████████████████████████▊     | 1.1MB 10.3MB/s eta 0:00:01\r\u001b[K     |███████████████████████████     | 1.1MB 10.3MB/s eta 0:00:01\r\u001b[K     |███████████████████████████▎    | 1.1MB 10.3MB/s eta 0:00:01\r\u001b[K     |███████████████████████████▌    | 1.1MB 10.3MB/s eta 0:00:01\r\u001b[K     |███████████████████████████▊    | 1.1MB 10.3MB/s eta 0:00:01\r\u001b[K     |████████████████████████████    | 1.2MB 10.3MB/s eta 0:00:01\r\u001b[K     |████████████████████████████▎   | 1.2MB 10.3MB/s eta 0:00:01\r\u001b[K     |████████████████████████████▌   | 1.2MB 10.3MB/s eta 0:00:01\r\u001b[K     |████████████████████████████▊   | 1.2MB 10.3MB/s eta 0:00:01\r\u001b[K     |█████████████████████████████   | 1.2MB 10.3MB/s eta 0:00:01\r\u001b[K     |█████████████████████████████▎  | 1.2MB 10.3MB/s eta 0:00:01\r\u001b[K     |█████████████████████████████▌  | 1.2MB 10.3MB/s eta 0:00:01\r\u001b[K     |█████████████████████████████▊  | 1.2MB 10.3MB/s eta 0:00:01\r\u001b[K     |██████████████████████████████  | 1.2MB 10.3MB/s eta 0:00:01\r\u001b[K     |██████████████████████████████▎ | 1.2MB 10.3MB/s eta 0:00:01\r\u001b[K     |██████████████████████████████▌ | 1.3MB 10.3MB/s eta 0:00:01\r\u001b[K     |██████████████████████████████▊ | 1.3MB 10.3MB/s eta 0:00:01\r\u001b[K     |███████████████████████████████ | 1.3MB 10.3MB/s eta 0:00:01\r\u001b[K     |███████████████████████████████▏| 1.3MB 10.3MB/s eta 0:00:01\r\u001b[K     |███████████████████████████████▌| 1.3MB 10.3MB/s eta 0:00:01\r\u001b[K     |███████████████████████████████▊| 1.3MB 10.3MB/s eta 0:00:01\r\u001b[K     |████████████████████████████████| 1.3MB 10.3MB/s eta 0:00:01\r\u001b[K     |████████████████████████████████| 1.3MB 10.3MB/s \n",
            "\u001b[?25hInstalling collected packages: Box2D\n",
            "Successfully installed Box2D-2.3.10\n"
          ],
          "name": "stdout"
        }
      ]
    },
    {
      "cell_type": "code",
      "metadata": {
        "id": "hGeh8RWUCl0-",
        "outputId": "1400c75f-a0c7-4869-82f6-f9cf6c690c8d",
        "colab": {
          "base_uri": "https://localhost:8080/"
        }
      },
      "source": [
        "try:\n",
        "    from google.colab import drive\n",
        "    drive.mount('/content/drive')\n",
        "    %cd drive/My\\ Drive/CMU/rl/hw3\n",
        "    %ls\n",
        "except:\n",
        "    print(\"Error loading colab folder; may not be on colab\")"
      ],
      "execution_count": null,
      "outputs": [
        {
          "output_type": "stream",
          "text": [
            "Go to this URL in a browser: https://accounts.google.com/o/oauth2/auth?client_id=947318989803-6bn6qk8qdgf4n4g3pfee6491hc0brc4i.apps.googleusercontent.com&redirect_uri=urn%3aietf%3awg%3aoauth%3a2.0%3aoob&scope=email%20https%3a%2f%2fwww.googleapis.com%2fauth%2fdocs.test%20https%3a%2f%2fwww.googleapis.com%2fauth%2fdrive%20https%3a%2f%2fwww.googleapis.com%2fauth%2fdrive.photos.readonly%20https%3a%2f%2fwww.googleapis.com%2fauth%2fpeopleapi.readonly&response_type=code\n",
            "\n",
            "Enter your authorization code:\n",
            "\n"
          ],
          "name": "stdout"
        },
        {
          "output_type": "stream",
          "text": [
            "Error loading colab folder; may not be on colab\n"
          ],
          "name": "stdout"
        }
      ]
    },
    {
      "cell_type": "code",
      "metadata": {
        "id": "XcF3TUAwC37J"
      },
      "source": [
        "class Replay_Memory():\n",
        "\tdef __init__(self, memory_size=50000, burn_in=10000):\n",
        "\t\t# The memory essentially stores transitions recorder from the agent\n",
        "\t\t# taking actions in the environment.\n",
        "\n",
        "\t\t# Burn in episodes define the number of episodes that are written into the memory from the\n",
        "\t\t# randomly initialized agent. Memory size is the maximum size after which old elements in the memory are replaced.\n",
        "\t\t# A simple (if not the most efficient) was to implement the memory is as a list of transitions.\n",
        "\n",
        "\t\t# Hint: you might find this useful:\n",
        "\t\t# \t\tcollections.deque(maxlen=memory_size)\n",
        "\t\tself.memory_size = memory_size\n",
        "\t\tself.burn_in = burn_in\n",
        "\t\tself.transitions = deque(maxlen=memory_size)\n",
        "\n",
        "\tdef sample_batch(self, batch_size=32):\n",
        "\t\t# This function returns a batch of randomly sampled transitions - i.e. state, action, reward, next state, terminal flag tuples.\n",
        "\t\t# You will feed this to your model to train.\n",
        "\t\treturn sample(self.transitions, batch_size)\n",
        "\t\n",
        "\tdef __len__(self):\n",
        "\t\treturn len(self.transitions)\n",
        "\n",
        "\tdef append(self, transition):\n",
        "\t\t# Appends transition to the memory.\n",
        "\t\tself.transitions.append(transition)"
      ],
      "execution_count": 2,
      "outputs": []
    },
    {
      "cell_type": "code",
      "metadata": {
        "id": "kNvpxvR4C5vv"
      },
      "source": [
        "class DQN_Agent():\n",
        "\t# In this class, we will implement functions to do the following.\n",
        "\t# (1) Create an instance of the Q Network class.\n",
        "\t# (2) Create a function that constructs a policy from the Q values predicted by the Q Network.\n",
        "\t#\t\t(a) Epsilon Greedy Policy.\n",
        "\t# \t\t(b) Greedy Policy.\n",
        "\t# (3) Create a function to train the Q Network, by interacting with the environment.\n",
        "\t# (4) Create a function to test the Q Network's performance on the environment.\n",
        "\t# (5) Create a function for Experience Replay.\n",
        "\n",
        "\tdef __init__(self, env_name, render=False):\n",
        "\t\tself.eps = 0.5\n",
        "\t\tself.memory = Replay_Memory()\n",
        "\t\tself.env_name = env_name\n",
        "\t\tself.gamma = 0.99\n",
        "\n",
        "\t\tself.init_env() # initializes self.env; if env bugs out, just call .init_env() below\n",
        "\n",
        "\tdef init_env(self):\n",
        "\t\tself.env = gym.make(self.env_name)\n",
        "\n",
        "\tdef epsilon_greedy_policy(self, q_values):\n",
        "\t\t# Creating epsilon greedy probabilities to sample from.\n",
        "\t\tif (np.random.random() < self.eps): # random action with eps probability\n",
        "\t\t\treturn np.random.randint((self.env.action_space.n))\n",
        "\t\telse: # greedy with 1-eps probability\n",
        "\t\t\treturn np.argmax(q_values.detach().cpu().numpy())\n",
        "\n",
        "\tdef greedy_policy(self, q_values):\n",
        "\t\t# Creating greedy policy for test time.\n",
        "\t\treturn np.argmax(q_values.detach().cpu().numpy())\n",
        "\n",
        "\tdef burn_in_memory(self, model):\n",
        "\t\t# Initialize your replay memory with a burn_in number of episodes / transitions.\n",
        "\t\tmodel.eval()\n",
        "\n",
        "\t\t# dont accumulate comp graph\n",
        "\t\twith torch.no_grad():\n",
        "\t\t\t# while we still need to meet memory quota\n",
        "\t\t\twhile len(self.memory) < self.memory.burn_in:\n",
        "\t\t\t\tdone = False\n",
        "\t\t\t\tstate = self.env.reset()\n",
        "\t\t\t\tq_values = model(torch.Tensor(state).unsqueeze(0))\n",
        "\t\t\t\t\n",
        "\t\t\t\t# run ep\n",
        "\t\t\t\twhile not done:\n",
        "\t\t\t\t\taction = self.epsilon_greedy_policy(q_values)\n",
        "\n",
        "\t\t\t\t\tnext_state, reward, done, _ = self.env.step(action)\n",
        "\t\t\t\t\tself.memory.transitions.append([state, action, reward, next_state, done])\n",
        "\n",
        "\t\t\t\t\tstate = next_state\n",
        "\t\t\t\t\tq_values = model(torch.Tensor(state).unsqueeze(0))\n",
        "\t\n",
        "\t\t\t\t\tif len(self.memory) == self.memory.burn_in:\n",
        "\t\t\t\t\t\tbreak\n",
        "\n",
        "\tdef train(self, model, optimizer, num_episodes, batch_size):\n",
        "\t\t# In this function, we will train our network.\n",
        "\n",
        "\t\t# When use replay memory, you should interact with environment here, and store these\n",
        "\t\t# transitions to memory, while also updating your model.\n",
        "\t\tmodel.train()\n",
        "\n",
        "\t\t# Burn in memory if not already burned in\n",
        "\t\tif len(self.memory) < self.memory.memory_size:\n",
        "\t\t\tprint('Burning in memory.')\n",
        "\t\t\tself.burn_in_memory(model)\n",
        "\t\t\tprint('Finished burning in memory')\n",
        "\t\telse:\n",
        "\t\t\tprint('Using existing memory')\n",
        "\t\t\n",
        "\t\tlosses = []\n",
        "\t\tepisodic_reward = []\n",
        "\n",
        "\t\tprint(\"**BEGINNING TRAINING**\")\n",
        "\t\tprint(f\"Will train: {num_episodes} episodes\")\n",
        "\t\tprint(f\"Total episodes already trained: {model.num_episodes} episodes\")\n",
        "\t\tprint(f\"Batch size: {batch_size}\")\n",
        "\t\tprint(\"-\" * 20)\n",
        "  \n",
        "\t\tfor episode in tqdm(range(1, num_episodes + 1), position=0, leave=True):\n",
        "\t\t\tdone = False\n",
        "\t\t\tstate = self.env.reset()\n",
        "\t\t\t# test_video(self, self.env, episode)\n",
        "\t\t\tepisode_reward = 0\n",
        "\t\t\tmodel.eval()\n",
        "\t\t\twith torch.no_grad():\n",
        "\t\t\t\tq_values = model(torch.Tensor(state).unsqueeze(0))\n",
        "\t\t\tmodel.train()\n",
        "\t\t\ttd_loss = []\n",
        "\t\t\t# print('episode', episode)\n",
        "\t\t\twhile not done:\n",
        "\t\t\t\toptimizer.zero_grad()\n",
        "\t\t\n",
        "\t\t\t\taction = self.epsilon_greedy_policy(q_values)\n",
        "\n",
        "\t\t\t\tnext_state, reward, done, _ = self.env.step(action)\n",
        "\t\t\t\tepisode_reward += reward\n",
        "\n",
        "\t\t\t\tself.memory.transitions.append((state, action, reward, next_state, done))\n",
        "\n",
        "\t\t\t\t# import pdb; pdb.set_trace() # TODO: remove\n",
        "\n",
        "\t\t\t\t# sampling batch # TODO: simplify\n",
        "\t\t\t\tbatch = list(map(list, zip(*self.memory.sample_batch(batch_size))))\n",
        "\t\t\t\tstates = np.array([i for i in batch[0]])\n",
        "\t\t\t\tactions = np.array([i for i in batch[1]])\n",
        "\t\t\t\trewards = np.array([i for i in batch[2]])\n",
        "\t\t\t\tnext_states = np.array([i for i in batch[3]])\n",
        "\t\t\t\tdone_indicator = np.array([i for i in batch[4]])\n",
        "\t\n",
        "\t\t\t\tq_values = model(torch.Tensor(states))\n",
        "\t\t\t\tnext_q_values = model(torch.Tensor(next_states)).detach()\n",
        "\n",
        "\t\t\t\t# Updating Q Values\n",
        "\t\t\t\tfor idx in range(len(q_values)):\n",
        "\t\t\t\t\tif done_indicator[idx]:\n",
        "\t\t\t\t\t\tq_values[idx, actions[idx]] = rewards[idx]\n",
        "\t\t\t\t\telse:\n",
        "\t\t\t\t\t\tq_values[idx, actions[idx]] = rewards[idx] + self.gamma*torch.max(next_q_values[idx])\n",
        "\t  \n",
        "\t\t\t\t# Updating model\n",
        "\t\t\t\tpredictions = model(torch.Tensor(states))\n",
        "\t\t\t\tloss = model.criterion(predictions, q_values)\t\t\n",
        "\t\t\t\tloss.backward()\n",
        "\t\t\t\toptimizer.step()\n",
        "\t\n",
        "\t\t\t\t# Compute TD Loss\n",
        "\t\t\t\ttd_loss.append(torch.sum(torch.absolute(predictions - q_values)).detach().cpu().numpy())\n",
        "\n",
        "\t\t\t\tstate = next_state\n",
        "\t\t\t\tmodel.eval()\n",
        "\t\t\t\twith torch.no_grad():\n",
        "\t\t\t\t\tq_values = model(torch.Tensor(state).unsqueeze(0)) # ?\n",
        "\t\t\t\tmodel.train()\n",
        "\n",
        "\t\t\t\t# Store loss value for printing \n",
        "\t\t\t\tlosses.append(loss.item())\n",
        "\n",
        "\t\t\tepisodic_reward.append(episode_reward)\n",
        "\t\t\tmodel.td_loss.append(np.mean(np.array(td_loss)))\n",
        "\n",
        "\t\t\t# increase total episode count\n",
        "\t\t\tmodel.num_episodes += 1\n",
        "   \n",
        "\t\t\tif model.num_episodes % 100 == 0:\n",
        "\t\t\t\tself.eps *= 0.5 # ? why do we change eps\n",
        "\t\t\t\tmean_test_reward, stdev_test_reward, test_avg_trj_len, test_std_trj_len = self.test(model)\n",
        "\n",
        "\t\t\t\t# store performance stats\n",
        "\t\t\t\tmodel.mean_rewards.append(mean_test_reward)\n",
        "\t\t\t\tmodel.stdev_rewards.append(stdev_test_reward)\n",
        "\t\t\t\tmodel.mean_trj_lens.append(test_avg_trj_len)\n",
        "\t\t\t\tmodel.stdev_trj_lens.append(test_std_trj_len)\n",
        "\n",
        "\t\t\t\t# print training stats\n",
        "\t\t\t\tprint(f\"\\nCurrent Episode: {episode}, Total # Episodes: {model.num_episodes}\")\n",
        "\t\t\t\t# print(f\"(train) current_loss: {loss.item()}, (train) mean_loss: {np.mean(losses)}\")\n",
        "\t\t\t\t# print(f\"(train) mean_reward: {mean_test_reward}, (train) stdev_reward: {stdev_test_reward}\")\n",
        "\t\t\t\tprint(f\"(test) mean_reward: {mean_test_reward}, TD Loss: {np.mean(model.td_loss)}\")\n",
        "\t\t\t\t# print(f\"(test) avg_trj_len: {test_avg_trj_len}\")\n",
        "\t\t\t\tprint(\"--------------------------\")\n",
        "\n",
        "\t\t\t\t# reset loss tracking to get running average every 100 eps\n",
        "\t\t\t\trewards = []\n",
        "\t\t\t\tlosses = []\n",
        "\n",
        "\t\t\t\t# reset to train mode\n",
        "\t\t\t\tmodel.train()\n",
        "\t\t\t\n",
        "\t\t\t# save model every 500 eps\n",
        "\t\t\t# if model.num_episodes % 500 == 0:\n",
        "\t\t\t# \tmodel.save_model_weights()\n",
        "   \n",
        "\t\treturn episodic_reward, test_reward\n",
        "\n",
        "\tdef test(self, model):\n",
        "\t# \t# Evaluate the performance of your agent over 100 episodes, by calculating average cummulative rewards (returns) for the 100 episodes.\n",
        "\t# \t# Here you need to interact with the environment, irrespective of whether you are using a memory.\n",
        "\t\ttest_eps_rewards = []\n",
        "\t\ttrj_lens = []\n",
        "\t\t\n",
        "\t\t# while not accumulating comp graph,\n",
        "\t\tmodel.eval()\n",
        "\t\twith torch.no_grad():\n",
        "\t\t\t# for 20 episodes,\n",
        "\t\t\tfor i in range(20):\n",
        "\t\t\t\tepisode_reward = 0\n",
        "\t\t\t\ttrj_len = 0\n",
        "\t\t\t\tdone = False\n",
        "\t\t\t\tstate = self.env.reset()\n",
        "\t\t\t\tq_values = model(torch.Tensor(state).unsqueeze(0))\n",
        "\t\t\t\t\n",
        "\t\t\t\t# create a trajectory and store its total reward and length\n",
        "\t\t\t\twhile not done:\n",
        "\t\t\t\t\taction = self.greedy_policy(q_values)\n",
        "\t\t\n",
        "\t\t\t\t\tnext_state, reward, done, _ = self.env.step(action)\n",
        "\t\t\t\t\tepisode_reward += reward\n",
        "\n",
        "\t\t\t\t\ttrj_len += 1\n",
        "\n",
        "\t\t\t\t\tstate = next_state\n",
        "\t\t\t\t\tq_values = model(torch.Tensor(state).unsqueeze(0))\n",
        "\t\t\t\ttest_eps_rewards.append(episode_reward)\n",
        "\t\t\t\ttrj_lens.append(trj_len)\n",
        "\t\t\n",
        "\t\t# return avg and stdev reward, as well as the avg length of the trajectories\n",
        "\t\treturn np.mean(test_eps_rewards), np.std(test_eps_rewards), np.mean(trj_lens), np.std(trj_lens)"
      ],
      "execution_count": 3,
      "outputs": []
    },
    {
      "cell_type": "code",
      "metadata": {
        "id": "4Xjv8skZ9VnX"
      },
      "source": [
        "def plot_training(model, k=100):\n",
        "    mean_rewards, stdev_rewards = model.mean_rewards, model.stdev_rewards\n",
        "\n",
        "    above = []\n",
        "    below = []\n",
        "\n",
        "    # add and subtract the stdev to current mean\n",
        "    for mu, sigma in zip(mean_rewards, stdev_rewards):\n",
        "         above.append(mu + sigma)\n",
        "         below.append(mu - sigma)\n",
        "\n",
        "    # breakpoint()\n",
        "    plt.figure(figsize=(12, 5))\n",
        "    plt.plot(np.arange(len(mean_rewards)) * k, mean_rewards, label=\"mean_rewards\")\n",
        "    plt.fill_between(np.arange(len(mean_rewards)) * k, above, below, alpha=0.5, color='y', label=\"stdev_reward\")\n",
        "    plt.title(f\"Mean/Stdev Eval Reward for {model.env_name}, REINFORCE, k={k}, trained: {model.num_episodes} episodes\")\n",
        "    plt.ylabel(f\"Reward\")\n",
        "    plt.xlabel(f\"# Episodes of training (eval every {k})\")\n",
        "    plt.legend()\n",
        "    plt.savefig(f\"p3_{model.env_name}_{datetime.now().isoformat('_').replace(':', '_')}.png\", dpi=300)\n",
        "    plt.show()"
      ],
      "execution_count": 4,
      "outputs": []
    },
    {
      "cell_type": "code",
      "metadata": {
        "id": "WFQ1mDwK9Vnb"
      },
      "source": [
        "def plot_trj_lens(model, k=100):\n",
        "    mean_trj_lens, stdev_trj_lens = model.mean_trj_lens, model.stdev_trj_lens\n",
        "\n",
        "    above = []\n",
        "    below = []\n",
        "\n",
        "    # add and subtract the stdev to current mean\n",
        "    for mu, sigma in zip(mean_trj_lens, stdev_trj_lens):\n",
        "         above.append(mu + sigma)\n",
        "         below.append(mu - sigma)\n",
        "    # breakpoint()\n",
        "    plt.figure(figsize=(12, 5))\n",
        "    plt.plot(np.arange(len(mean_trj_lens)) * k, mean_trj_lens, label=\"mean_trj_lens\")\n",
        "    plt.fill_between(np.arange(len(mean_trj_lens)) * k, above, below, alpha=0.5, color='y', label=\"stdev_trj_lens\")\n",
        "    plt.title(f\"Mean/Stdev Trajectory Lengths for {model.env_name}, DQN, k={k}, trained: {model.num_episodes} episodes\")\n",
        "    plt.ylabel(f\"Trajectory Length\")\n",
        "    plt.xlabel(f\"# Episodes of training (eval 20 eps every {k})\")\n",
        "    plt.legend()\n",
        "    plt.savefig(f\"q3_trj_lens_{model.env_name}_{datetime.now().isoformat('_').replace(':', '_')}.png\", dpi=300)\n",
        "    plt.show()"
      ],
      "execution_count": 5,
      "outputs": []
    },
    {
      "cell_type": "code",
      "metadata": {
        "id": "MalzsaRs9Vnd"
      },
      "source": [
        "class QNetwork(nn.Module):\n",
        "\t# This class essentially defines the network architecture.\n",
        "\t# The network should take in state of the world as an input,\n",
        "\t# and output Q values of the actions available to the agent as the output.\n",
        "\n",
        "\tdef __init__(self, env_name, input_size, output_size):\n",
        "\t\t# Define your network architecture here. It is also a good idea to define any training operations\n",
        "\t\t# and optimizers here, initialize your variables, or alternately compile your model here.\n",
        "\t\tsuper(QNetwork, self).__init__()\n",
        "\t\tself.env_name = env_name\n",
        "\t\tself.input_size = input_size\n",
        "\t\tself.output_size = output_size\n",
        "\n",
        "        # init layers\n",
        "\t\tself.net = nn.Sequential(\n",
        "\t\t\t\tnn.Linear(self.input_size, 32),\n",
        "\t\t\t\tnn.ReLU(),\n",
        "\t\t\t\tnn.Linear(32, 64),\n",
        "\t\t\t\tnn.ReLU(),\n",
        "\t\t\t\tnn.Linear(64, 128),\n",
        "\t\t\t\tnn.ReLU(),\n",
        "\t\t\t\tnn.Linear(128, 64),\n",
        "\t\t\t\tnn.ReLU(),\n",
        "\t\t\t\tnn.Linear(64, 32),\n",
        "\t\t\t\tnn.ReLU(),\n",
        "\t\t\t\tnn.Linear(32, self.output_size),\n",
        "\t\t)\n",
        "\n",
        "\t\tself.init_weights()\n",
        "\n",
        "        # always same criterion so might as well put it here\n",
        "\t\tself.criterion = nn.MSELoss()\n",
        "\n",
        "        # tracking stats\n",
        "\t\tself.mean_rewards = []\n",
        "\t\tself.stdev_rewards = []\n",
        "\t\tself.mean_trj_lens = []\n",
        "\t\tself.stdev_trj_lens = []\n",
        "\t\tself.td_loss = []\n",
        "\t\tself.num_episodes = 0\n",
        "\n",
        "\tdef save_model_weights(self):\n",
        "\t\t# Helper function to save your model / weights.\n",
        "\t\ttorch.save(self.net.state_dict(), f\"q3_models/{self.env_name}_{self.num_episodes}_{datetime.now().isoformat('_').replace(':', '_')}.model\")\n",
        "\t\n",
        "\tdef forward(self, x):\n",
        "\t\treturn self.net(x)\n",
        "\n",
        "\tdef load_model(self, model_file):\n",
        "\t\t# Helper function to load an existing model.\n",
        "\t\tself.net.load_state_dict(torch.load(\"q3_models/\"+model_file))\n",
        "# nn.init.xavier_uniform_(m.weight, gain=0.3)\n",
        "                # scale = 1.0\n",
        "                # n = np.mean(m.weight.shape)\n",
        "                # alpha = np.sqrt(3 * scale / n)\n",
        "                # nn.init.uniform_(m.weight, a=-alpha, b=alpha)\n",
        "                # nn.init.kaiming_uniform_(m.weight, nonlinearity='relu')\n",
        "\tdef init_weights(self):\n",
        "\t\tfor m in self.net:\n",
        "\t\t\tif isinstance(m, nn.Linear):\n",
        "\t\t\t\tnn.init.kaiming_normal_(m.weight, mode='fan_out', nonlinearity='relu') # torch 1.7.0 new default, better init strategy generally\n",
        "\t\t\t\tnn.init.zeros_(m.bias)"
      ],
      "execution_count": 18,
      "outputs": []
    },
    {
      "cell_type": "markdown",
      "metadata": {
        "id": "ZZO06WCFvFgJ"
      },
      "source": [
        "#Mountain Car Env"
      ]
    },
    {
      "cell_type": "code",
      "metadata": {
        "id": "q4gWLWKP9Vng"
      },
      "source": [
        "# init dqn agent (WARNING: rerunning this will wipe memory)\n",
        "env_name = 'MountainCar-v0'\n",
        "dqn_agent = DQN_Agent(env_name)"
      ],
      "execution_count": 19,
      "outputs": []
    },
    {
      "cell_type": "code",
      "metadata": {
        "id": "mYSt837P9Vnj"
      },
      "source": [
        "dqn_agent.init_env()"
      ],
      "execution_count": 20,
      "outputs": []
    },
    {
      "cell_type": "code",
      "metadata": {
        "id": "BokFYdN_D4Ww"
      },
      "source": [
        "# init model\n",
        "input_size = dqn_agent.env.observation_space.shape[0]\n",
        "output_size = dqn_agent.env.action_space.n\n",
        "\n",
        "model = QNetwork(env_name, input_size, output_size)\n",
        "# print(device)\n",
        "# model = model.to(device)"
      ],
      "execution_count": 21,
      "outputs": []
    },
    {
      "cell_type": "code",
      "metadata": {
        "id": "HOJ4l0S29Vno"
      },
      "source": [
        "optimizer = torch.optim.Adam(model.parameters(), lr=1e-4)"
      ],
      "execution_count": 22,
      "outputs": []
    },
    {
      "cell_type": "code",
      "metadata": {
        "id": "OM_3NyLh9Vnw",
        "outputId": "2d53fbf2-27bc-4c0d-d304-aaacbe7c0509",
        "colab": {
          "base_uri": "https://localhost:8080/",
          "height": 1000
        }
      },
      "source": [
        "# run training\n",
        "batch_size = 32\n",
        "num_episodes = 10000\n",
        "train_rewards, test_reward = dqn_agent.train(model, optimizer, num_episodes, batch_size)"
      ],
      "execution_count": 23,
      "outputs": [
        {
          "output_type": "stream",
          "text": [
            "Burning in memory.\n"
          ],
          "name": "stdout"
        },
        {
          "output_type": "stream",
          "text": [
            "\r  0%|          | 0/10000 [00:00<?, ?it/s]"
          ],
          "name": "stderr"
        },
        {
          "output_type": "stream",
          "text": [
            "Finished burning in memory\n",
            "**BEGINNING TRAINING**\n",
            "Will train: 10000 episodes\n",
            "Total episodes already trained: 0 episodes\n",
            "Batch size: 32\n",
            "--------------------\n"
          ],
          "name": "stdout"
        },
        {
          "output_type": "stream",
          "text": [
            "  1%|          | 100/10000 [01:40<3:42:40,  1.35s/it]"
          ],
          "name": "stderr"
        },
        {
          "output_type": "stream",
          "text": [
            "\n",
            "Current Episode: 100, Total # Episodes: 100\n",
            "(test) mean_reward: -200.0, TD Loss: 20.781543731689453\n",
            "--------------------------\n"
          ],
          "name": "stdout"
        },
        {
          "output_type": "stream",
          "text": [
            "  2%|▏         | 200/10000 [03:21<3:41:00,  1.35s/it]"
          ],
          "name": "stderr"
        },
        {
          "output_type": "stream",
          "text": [
            "\n",
            "Current Episode: 200, Total # Episodes: 200\n",
            "(test) mean_reward: -200.0, TD Loss: 20.187965393066406\n",
            "--------------------------\n"
          ],
          "name": "stdout"
        },
        {
          "output_type": "stream",
          "text": [
            "  3%|▎         | 300/10000 [05:03<3:42:20,  1.38s/it]"
          ],
          "name": "stderr"
        },
        {
          "output_type": "stream",
          "text": [
            "\n",
            "Current Episode: 300, Total # Episodes: 300\n",
            "(test) mean_reward: -200.0, TD Loss: 19.7679443359375\n",
            "--------------------------\n"
          ],
          "name": "stdout"
        },
        {
          "output_type": "stream",
          "text": [
            "  4%|▍         | 400/10000 [06:46<3:35:09,  1.34s/it]"
          ],
          "name": "stderr"
        },
        {
          "output_type": "stream",
          "text": [
            "\n",
            "Current Episode: 400, Total # Episodes: 400\n",
            "(test) mean_reward: -200.0, TD Loss: 19.746238708496094\n",
            "--------------------------\n"
          ],
          "name": "stdout"
        },
        {
          "output_type": "stream",
          "text": [
            "  5%|▌         | 500/10000 [08:20<2:56:23,  1.11s/it]"
          ],
          "name": "stderr"
        },
        {
          "output_type": "stream",
          "text": [
            "\n",
            "Current Episode: 500, Total # Episodes: 500\n",
            "(test) mean_reward: -200.0, TD Loss: 19.65021324157715\n",
            "--------------------------\n"
          ],
          "name": "stdout"
        },
        {
          "output_type": "stream",
          "text": [
            "  6%|▌         | 600/10000 [09:36<2:29:04,  1.05it/s]"
          ],
          "name": "stderr"
        },
        {
          "output_type": "stream",
          "text": [
            "\n",
            "Current Episode: 600, Total # Episodes: 600\n",
            "(test) mean_reward: -150.6, TD Loss: 19.033700942993164\n",
            "--------------------------\n"
          ],
          "name": "stdout"
        },
        {
          "output_type": "stream",
          "text": [
            "  7%|▋         | 700/10000 [10:50<2:37:33,  1.02s/it]"
          ],
          "name": "stderr"
        },
        {
          "output_type": "stream",
          "text": [
            "\n",
            "Current Episode: 700, Total # Episodes: 700\n",
            "(test) mean_reward: -163.4, TD Loss: 18.263212203979492\n",
            "--------------------------\n"
          ],
          "name": "stdout"
        },
        {
          "output_type": "stream",
          "text": [
            "  8%|▊         | 800/10000 [11:59<2:19:17,  1.10it/s]"
          ],
          "name": "stderr"
        },
        {
          "output_type": "stream",
          "text": [
            "\n",
            "Current Episode: 800, Total # Episodes: 800\n",
            "(test) mean_reward: -132.0, TD Loss: 17.324188232421875\n",
            "--------------------------\n"
          ],
          "name": "stdout"
        },
        {
          "output_type": "stream",
          "text": [
            "  9%|▉         | 900/10000 [13:05<2:20:55,  1.08it/s]"
          ],
          "name": "stderr"
        },
        {
          "output_type": "stream",
          "text": [
            "\n",
            "Current Episode: 900, Total # Episodes: 900\n",
            "(test) mean_reward: -181.3, TD Loss: 16.41981315612793\n",
            "--------------------------\n"
          ],
          "name": "stdout"
        },
        {
          "output_type": "stream",
          "text": [
            " 10%|█         | 1000/10000 [14:07<1:53:15,  1.32it/s]"
          ],
          "name": "stderr"
        },
        {
          "output_type": "stream",
          "text": [
            "\n",
            "Current Episode: 1000, Total # Episodes: 1000\n",
            "(test) mean_reward: -105.9, TD Loss: 15.687403678894043\n",
            "--------------------------\n"
          ],
          "name": "stdout"
        },
        {
          "output_type": "stream",
          "text": [
            " 11%|█         | 1100/10000 [15:04<2:03:54,  1.20it/s]"
          ],
          "name": "stderr"
        },
        {
          "output_type": "stream",
          "text": [
            "\n",
            "Current Episode: 1100, Total # Episodes: 1100\n",
            "(test) mean_reward: -124.05, TD Loss: 14.966854095458984\n",
            "--------------------------\n"
          ],
          "name": "stdout"
        },
        {
          "output_type": "stream",
          "text": [
            " 12%|█▏        | 1200/10000 [16:03<2:00:54,  1.21it/s]"
          ],
          "name": "stderr"
        },
        {
          "output_type": "stream",
          "text": [
            "\n",
            "Current Episode: 1200, Total # Episodes: 1200\n",
            "(test) mean_reward: -105.25, TD Loss: 14.331881523132324\n",
            "--------------------------\n"
          ],
          "name": "stdout"
        },
        {
          "output_type": "stream",
          "text": [
            " 13%|█▎        | 1300/10000 [16:59<1:51:29,  1.30it/s]"
          ],
          "name": "stderr"
        },
        {
          "output_type": "stream",
          "text": [
            "\n",
            "Current Episode: 1300, Total # Episodes: 1300\n",
            "(test) mean_reward: -128.3, TD Loss: 13.747247695922852\n",
            "--------------------------\n"
          ],
          "name": "stdout"
        },
        {
          "output_type": "stream",
          "text": [
            " 14%|█▍        | 1400/10000 [17:54<1:41:00,  1.42it/s]"
          ],
          "name": "stderr"
        },
        {
          "output_type": "stream",
          "text": [
            "\n",
            "Current Episode: 1400, Total # Episodes: 1400\n",
            "(test) mean_reward: -103.0, TD Loss: 13.165708541870117\n",
            "--------------------------\n"
          ],
          "name": "stdout"
        },
        {
          "output_type": "stream",
          "text": [
            " 15%|█▌        | 1500/10000 [18:48<1:52:02,  1.26it/s]"
          ],
          "name": "stderr"
        },
        {
          "output_type": "stream",
          "text": [
            "\n",
            "Current Episode: 1500, Total # Episodes: 1500\n",
            "(test) mean_reward: -101.95, TD Loss: 12.64697265625\n",
            "--------------------------\n"
          ],
          "name": "stdout"
        },
        {
          "output_type": "stream",
          "text": [
            " 16%|█▌        | 1600/10000 [19:46<1:48:03,  1.30it/s]"
          ],
          "name": "stderr"
        },
        {
          "output_type": "stream",
          "text": [
            "\n",
            "Current Episode: 1600, Total # Episodes: 1600\n",
            "(test) mean_reward: -107.55, TD Loss: 12.214268684387207\n",
            "--------------------------\n"
          ],
          "name": "stdout"
        },
        {
          "output_type": "stream",
          "text": [
            " 17%|█▋        | 1700/10000 [20:47<1:50:38,  1.25it/s]"
          ],
          "name": "stderr"
        },
        {
          "output_type": "stream",
          "text": [
            "\n",
            "Current Episode: 1700, Total # Episodes: 1700\n",
            "(test) mean_reward: -105.5, TD Loss: 11.870615005493164\n",
            "--------------------------\n"
          ],
          "name": "stdout"
        },
        {
          "output_type": "stream",
          "text": [
            " 18%|█▊        | 1800/10000 [21:46<1:41:03,  1.35it/s]"
          ],
          "name": "stderr"
        },
        {
          "output_type": "stream",
          "text": [
            "\n",
            "Current Episode: 1800, Total # Episodes: 1800\n",
            "(test) mean_reward: -101.0, TD Loss: 11.567191123962402\n",
            "--------------------------\n"
          ],
          "name": "stdout"
        },
        {
          "output_type": "stream",
          "text": [
            " 19%|█▉        | 1900/10000 [22:44<1:40:22,  1.35it/s]"
          ],
          "name": "stderr"
        },
        {
          "output_type": "stream",
          "text": [
            "\n",
            "Current Episode: 1900, Total # Episodes: 1900\n",
            "(test) mean_reward: -100.6, TD Loss: 11.301122665405273\n",
            "--------------------------\n"
          ],
          "name": "stdout"
        },
        {
          "output_type": "stream",
          "text": [
            " 20%|██        | 2000/10000 [23:41<1:41:37,  1.31it/s]"
          ],
          "name": "stderr"
        },
        {
          "output_type": "stream",
          "text": [
            "\n",
            "Current Episode: 2000, Total # Episodes: 2000\n",
            "(test) mean_reward: -97.55, TD Loss: 11.072509765625\n",
            "--------------------------\n"
          ],
          "name": "stdout"
        },
        {
          "output_type": "stream",
          "text": [
            " 21%|██        | 2100/10000 [24:39<1:29:30,  1.47it/s]"
          ],
          "name": "stderr"
        },
        {
          "output_type": "stream",
          "text": [
            "\n",
            "Current Episode: 2100, Total # Episodes: 2100\n",
            "(test) mean_reward: -102.05, TD Loss: 10.84713363647461\n",
            "--------------------------\n"
          ],
          "name": "stdout"
        },
        {
          "output_type": "stream",
          "text": [
            " 22%|██▏       | 2200/10000 [25:37<1:38:15,  1.32it/s]"
          ],
          "name": "stderr"
        },
        {
          "output_type": "stream",
          "text": [
            "\n",
            "Current Episode: 2200, Total # Episodes: 2200\n",
            "(test) mean_reward: -109.35, TD Loss: 10.641135215759277\n",
            "--------------------------\n"
          ],
          "name": "stdout"
        },
        {
          "output_type": "stream",
          "text": [
            " 23%|██▎       | 2300/10000 [26:34<1:41:01,  1.27it/s]"
          ],
          "name": "stderr"
        },
        {
          "output_type": "stream",
          "text": [
            "\n",
            "Current Episode: 2300, Total # Episodes: 2300\n",
            "(test) mean_reward: -157.5, TD Loss: 10.44742488861084\n",
            "--------------------------\n"
          ],
          "name": "stdout"
        },
        {
          "output_type": "stream",
          "text": [
            " 24%|██▍       | 2400/10000 [27:30<1:34:04,  1.35it/s]"
          ],
          "name": "stderr"
        },
        {
          "output_type": "stream",
          "text": [
            "\n",
            "Current Episode: 2400, Total # Episodes: 2400\n",
            "(test) mean_reward: -103.1, TD Loss: 10.259011268615723\n",
            "--------------------------\n"
          ],
          "name": "stdout"
        },
        {
          "output_type": "stream",
          "text": [
            " 25%|██▌       | 2500/10000 [28:27<1:28:51,  1.41it/s]"
          ],
          "name": "stderr"
        },
        {
          "output_type": "stream",
          "text": [
            "\n",
            "Current Episode: 2500, Total # Episodes: 2500\n",
            "(test) mean_reward: -100.95, TD Loss: 10.08416748046875\n",
            "--------------------------\n"
          ],
          "name": "stdout"
        },
        {
          "output_type": "stream",
          "text": [
            " 26%|██▌       | 2600/10000 [29:25<1:34:57,  1.30it/s]"
          ],
          "name": "stderr"
        },
        {
          "output_type": "stream",
          "text": [
            "\n",
            "Current Episode: 2600, Total # Episodes: 2600\n",
            "(test) mean_reward: -100.65, TD Loss: 9.918746948242188\n",
            "--------------------------\n"
          ],
          "name": "stdout"
        },
        {
          "output_type": "stream",
          "text": [
            " 27%|██▋       | 2700/10000 [30:19<1:30:33,  1.34it/s]"
          ],
          "name": "stderr"
        },
        {
          "output_type": "stream",
          "text": [
            "\n",
            "Current Episode: 2700, Total # Episodes: 2700\n",
            "(test) mean_reward: -131.85, TD Loss: 9.741806030273438\n",
            "--------------------------\n"
          ],
          "name": "stdout"
        },
        {
          "output_type": "stream",
          "text": [
            " 28%|██▊       | 2800/10000 [31:15<1:25:29,  1.40it/s]"
          ],
          "name": "stderr"
        },
        {
          "output_type": "stream",
          "text": [
            "\n",
            "Current Episode: 2800, Total # Episodes: 2800\n",
            "(test) mean_reward: -103.35, TD Loss: 9.594070434570312\n",
            "--------------------------\n"
          ],
          "name": "stdout"
        },
        {
          "output_type": "stream",
          "text": [
            " 29%|██▉       | 2900/10000 [32:13<1:35:31,  1.24it/s]"
          ],
          "name": "stderr"
        },
        {
          "output_type": "stream",
          "text": [
            "\n",
            "Current Episode: 2900, Total # Episodes: 2900\n",
            "(test) mean_reward: -119.0, TD Loss: 9.4702787399292\n",
            "--------------------------\n"
          ],
          "name": "stdout"
        },
        {
          "output_type": "stream",
          "text": [
            " 30%|███       | 3000/10000 [33:11<1:46:18,  1.10it/s]"
          ],
          "name": "stderr"
        },
        {
          "output_type": "stream",
          "text": [
            "\n",
            "Current Episode: 3000, Total # Episodes: 3000\n",
            "(test) mean_reward: -175.35, TD Loss: 9.362506866455078\n",
            "--------------------------\n"
          ],
          "name": "stdout"
        },
        {
          "output_type": "stream",
          "text": [
            " 31%|███       | 3100/10000 [34:10<1:41:14,  1.14it/s]"
          ],
          "name": "stderr"
        },
        {
          "output_type": "stream",
          "text": [
            "\n",
            "Current Episode: 3100, Total # Episodes: 3100\n",
            "(test) mean_reward: -165.7, TD Loss: 9.254066467285156\n",
            "--------------------------\n"
          ],
          "name": "stdout"
        },
        {
          "output_type": "stream",
          "text": [
            " 32%|███▏      | 3200/10000 [35:05<1:23:02,  1.36it/s]"
          ],
          "name": "stderr"
        },
        {
          "output_type": "stream",
          "text": [
            "\n",
            "Current Episode: 3200, Total # Episodes: 3200\n",
            "(test) mean_reward: -99.95, TD Loss: 9.156900405883789\n",
            "--------------------------\n"
          ],
          "name": "stdout"
        },
        {
          "output_type": "stream",
          "text": [
            " 33%|███▎      | 3300/10000 [36:02<1:23:27,  1.34it/s]"
          ],
          "name": "stderr"
        },
        {
          "output_type": "stream",
          "text": [
            "\n",
            "Current Episode: 3300, Total # Episodes: 3300\n",
            "(test) mean_reward: -128.25, TD Loss: 9.06086254119873\n",
            "--------------------------\n"
          ],
          "name": "stdout"
        },
        {
          "output_type": "stream",
          "text": [
            " 34%|███▍      | 3400/10000 [36:57<1:37:00,  1.13it/s]"
          ],
          "name": "stderr"
        },
        {
          "output_type": "stream",
          "text": [
            "\n",
            "Current Episode: 3400, Total # Episodes: 3400\n",
            "(test) mean_reward: -106.15, TD Loss: 8.958991050720215\n",
            "--------------------------\n"
          ],
          "name": "stdout"
        },
        {
          "output_type": "stream",
          "text": [
            " 35%|███▌      | 3500/10000 [37:52<1:20:29,  1.35it/s]"
          ],
          "name": "stderr"
        },
        {
          "output_type": "stream",
          "text": [
            "\n",
            "Current Episode: 3500, Total # Episodes: 3500\n",
            "(test) mean_reward: -111.45, TD Loss: 8.849714279174805\n",
            "--------------------------\n"
          ],
          "name": "stdout"
        },
        {
          "output_type": "stream",
          "text": [
            " 36%|███▌      | 3600/10000 [38:51<1:19:02,  1.35it/s]"
          ],
          "name": "stderr"
        },
        {
          "output_type": "stream",
          "text": [
            "\n",
            "Current Episode: 3600, Total # Episodes: 3600\n",
            "(test) mean_reward: -99.35, TD Loss: 8.756729125976562\n",
            "--------------------------\n"
          ],
          "name": "stdout"
        },
        {
          "output_type": "stream",
          "text": [
            " 37%|███▋      | 3700/10000 [39:48<1:22:55,  1.27it/s]"
          ],
          "name": "stderr"
        },
        {
          "output_type": "stream",
          "text": [
            "\n",
            "Current Episode: 3700, Total # Episodes: 3700\n",
            "(test) mean_reward: -142.7, TD Loss: 8.682263374328613\n",
            "--------------------------\n"
          ],
          "name": "stdout"
        },
        {
          "output_type": "stream",
          "text": [
            " 38%|███▊      | 3800/10000 [40:46<1:16:24,  1.35it/s]"
          ],
          "name": "stderr"
        },
        {
          "output_type": "stream",
          "text": [
            "\n",
            "Current Episode: 3800, Total # Episodes: 3800\n",
            "(test) mean_reward: -105.05, TD Loss: 8.61383056640625\n",
            "--------------------------\n"
          ],
          "name": "stdout"
        },
        {
          "output_type": "stream",
          "text": [
            " 39%|███▉      | 3900/10000 [41:41<1:09:22,  1.47it/s]"
          ],
          "name": "stderr"
        },
        {
          "output_type": "stream",
          "text": [
            "\n",
            "Current Episode: 3900, Total # Episodes: 3900\n",
            "(test) mean_reward: -97.4, TD Loss: 8.547744750976562\n",
            "--------------------------\n"
          ],
          "name": "stdout"
        },
        {
          "output_type": "stream",
          "text": [
            " 40%|████      | 4000/10000 [42:37<1:11:10,  1.40it/s]"
          ],
          "name": "stderr"
        },
        {
          "output_type": "stream",
          "text": [
            "\n",
            "Current Episode: 4000, Total # Episodes: 4000\n",
            "(test) mean_reward: -132.05, TD Loss: 8.48371696472168\n",
            "--------------------------\n"
          ],
          "name": "stdout"
        },
        {
          "output_type": "stream",
          "text": [
            " 41%|████      | 4100/10000 [43:33<1:12:20,  1.36it/s]"
          ],
          "name": "stderr"
        },
        {
          "output_type": "stream",
          "text": [
            "\n",
            "Current Episode: 4100, Total # Episodes: 4100\n",
            "(test) mean_reward: -114.8, TD Loss: 8.415234565734863\n",
            "--------------------------\n"
          ],
          "name": "stdout"
        },
        {
          "output_type": "stream",
          "text": [
            " 42%|████▏     | 4200/10000 [44:34<1:19:54,  1.21it/s]"
          ],
          "name": "stderr"
        },
        {
          "output_type": "stream",
          "text": [
            "\n",
            "Current Episode: 4200, Total # Episodes: 4200\n",
            "(test) mean_reward: -120.8, TD Loss: 8.356746673583984\n",
            "--------------------------\n"
          ],
          "name": "stdout"
        },
        {
          "output_type": "stream",
          "text": [
            " 43%|████▎     | 4300/10000 [45:34<1:33:44,  1.01it/s]"
          ],
          "name": "stderr"
        },
        {
          "output_type": "stream",
          "text": [
            "\n",
            "Current Episode: 4300, Total # Episodes: 4300\n",
            "(test) mean_reward: -155.5, TD Loss: 8.303529739379883\n",
            "--------------------------\n"
          ],
          "name": "stdout"
        },
        {
          "output_type": "stream",
          "text": [
            " 44%|████▍     | 4400/10000 [46:33<1:04:13,  1.45it/s]"
          ],
          "name": "stderr"
        },
        {
          "output_type": "stream",
          "text": [
            "\n",
            "Current Episode: 4400, Total # Episodes: 4400\n",
            "(test) mean_reward: -98.25, TD Loss: 8.252138137817383\n",
            "--------------------------\n"
          ],
          "name": "stdout"
        },
        {
          "output_type": "stream",
          "text": [
            " 45%|████▌     | 4500/10000 [47:33<1:11:03,  1.29it/s]"
          ],
          "name": "stderr"
        },
        {
          "output_type": "stream",
          "text": [
            "\n",
            "Current Episode: 4500, Total # Episodes: 4500\n",
            "(test) mean_reward: -101.1, TD Loss: 8.213935852050781\n",
            "--------------------------\n"
          ],
          "name": "stdout"
        },
        {
          "output_type": "stream",
          "text": [
            " 46%|████▌     | 4600/10000 [48:34<1:21:03,  1.11it/s]"
          ],
          "name": "stderr"
        },
        {
          "output_type": "stream",
          "text": [
            "\n",
            "Current Episode: 4600, Total # Episodes: 4600\n",
            "(test) mean_reward: -126.05, TD Loss: 8.1729736328125\n",
            "--------------------------\n"
          ],
          "name": "stdout"
        },
        {
          "output_type": "stream",
          "text": [
            " 47%|████▋     | 4700/10000 [49:33<1:20:24,  1.10it/s]"
          ],
          "name": "stderr"
        },
        {
          "output_type": "stream",
          "text": [
            "\n",
            "Current Episode: 4700, Total # Episodes: 4700\n",
            "(test) mean_reward: -160.45, TD Loss: 8.124072074890137\n",
            "--------------------------\n"
          ],
          "name": "stdout"
        },
        {
          "output_type": "stream",
          "text": [
            " 48%|████▊     | 4800/10000 [50:32<1:03:32,  1.36it/s]"
          ],
          "name": "stderr"
        },
        {
          "output_type": "stream",
          "text": [
            "\n",
            "Current Episode: 4800, Total # Episodes: 4800\n",
            "(test) mean_reward: -98.35, TD Loss: 8.07571792602539\n",
            "--------------------------\n"
          ],
          "name": "stdout"
        },
        {
          "output_type": "stream",
          "text": [
            " 49%|████▉     | 4900/10000 [51:30<1:03:20,  1.34it/s]"
          ],
          "name": "stderr"
        },
        {
          "output_type": "stream",
          "text": [
            "\n",
            "Current Episode: 4900, Total # Episodes: 4900\n",
            "(test) mean_reward: -103.65, TD Loss: 8.02558708190918\n",
            "--------------------------\n"
          ],
          "name": "stdout"
        },
        {
          "output_type": "stream",
          "text": [
            " 50%|█████     | 5000/10000 [52:31<1:07:34,  1.23it/s]"
          ],
          "name": "stderr"
        },
        {
          "output_type": "stream",
          "text": [
            "\n",
            "Current Episode: 5000, Total # Episodes: 5000\n",
            "(test) mean_reward: -107.95, TD Loss: 7.983797073364258\n",
            "--------------------------\n"
          ],
          "name": "stdout"
        },
        {
          "output_type": "stream",
          "text": [
            " 51%|█████     | 5100/10000 [53:32<1:07:17,  1.21it/s]"
          ],
          "name": "stderr"
        },
        {
          "output_type": "stream",
          "text": [
            "\n",
            "Current Episode: 5100, Total # Episodes: 5100\n",
            "(test) mean_reward: -100.4, TD Loss: 7.949290752410889\n",
            "--------------------------\n"
          ],
          "name": "stdout"
        },
        {
          "output_type": "stream",
          "text": [
            " 52%|█████▏    | 5200/10000 [54:33<58:01,  1.38it/s]"
          ],
          "name": "stderr"
        },
        {
          "output_type": "stream",
          "text": [
            "\n",
            "Current Episode: 5200, Total # Episodes: 5200\n",
            "(test) mean_reward: -100.1, TD Loss: 7.911772727966309\n",
            "--------------------------\n"
          ],
          "name": "stdout"
        },
        {
          "output_type": "stream",
          "text": [
            " 53%|█████▎    | 5300/10000 [55:35<1:14:40,  1.05it/s]"
          ],
          "name": "stderr"
        },
        {
          "output_type": "stream",
          "text": [
            "\n",
            "Current Episode: 5300, Total # Episodes: 5300\n",
            "(test) mean_reward: -156.7, TD Loss: 7.876266002655029\n",
            "--------------------------\n"
          ],
          "name": "stdout"
        },
        {
          "output_type": "stream",
          "text": [
            " 54%|█████▍    | 5400/10000 [56:36<58:36,  1.31it/s]"
          ],
          "name": "stderr"
        },
        {
          "output_type": "stream",
          "text": [
            "\n",
            "Current Episode: 5400, Total # Episodes: 5400\n",
            "(test) mean_reward: -104.4, TD Loss: 7.849024295806885\n",
            "--------------------------\n"
          ],
          "name": "stdout"
        },
        {
          "output_type": "stream",
          "text": [
            " 55%|█████▌    | 5500/10000 [57:36<58:00,  1.29it/s]"
          ],
          "name": "stderr"
        },
        {
          "output_type": "stream",
          "text": [
            "\n",
            "Current Episode: 5500, Total # Episodes: 5500\n",
            "(test) mean_reward: -100.6, TD Loss: 7.817800998687744\n",
            "--------------------------\n"
          ],
          "name": "stdout"
        },
        {
          "output_type": "stream",
          "text": [
            " 56%|█████▌    | 5600/10000 [58:39<53:34,  1.37it/s]"
          ],
          "name": "stderr"
        },
        {
          "output_type": "stream",
          "text": [
            "\n",
            "Current Episode: 5600, Total # Episodes: 5600\n",
            "(test) mean_reward: -102.2, TD Loss: 7.789341449737549\n",
            "--------------------------\n"
          ],
          "name": "stdout"
        },
        {
          "output_type": "stream",
          "text": [
            " 57%|█████▋    | 5700/10000 [59:45<54:26,  1.32it/s]"
          ],
          "name": "stderr"
        },
        {
          "output_type": "stream",
          "text": [
            "\n",
            "Current Episode: 5700, Total # Episodes: 5700\n",
            "(test) mean_reward: -107.75, TD Loss: 7.75991153717041\n",
            "--------------------------\n"
          ],
          "name": "stdout"
        },
        {
          "output_type": "stream",
          "text": [
            " 58%|█████▊    | 5800/10000 [1:00:48<59:22,  1.18it/s]"
          ],
          "name": "stderr"
        },
        {
          "output_type": "stream",
          "text": [
            "\n",
            "Current Episode: 5800, Total # Episodes: 5800\n",
            "(test) mean_reward: -106.25, TD Loss: 7.743611812591553\n",
            "--------------------------\n"
          ],
          "name": "stdout"
        },
        {
          "output_type": "stream",
          "text": [
            " 59%|█████▉    | 5900/10000 [1:01:52<55:18,  1.24it/s]"
          ],
          "name": "stderr"
        },
        {
          "output_type": "stream",
          "text": [
            "\n",
            "Current Episode: 5900, Total # Episodes: 5900\n",
            "(test) mean_reward: -115.85, TD Loss: 7.738896369934082\n",
            "--------------------------\n"
          ],
          "name": "stdout"
        },
        {
          "output_type": "stream",
          "text": [
            " 60%|██████    | 6000/10000 [1:02:55<50:25,  1.32it/s]"
          ],
          "name": "stderr"
        },
        {
          "output_type": "stream",
          "text": [
            "\n",
            "Current Episode: 6000, Total # Episodes: 6000\n",
            "(test) mean_reward: -100.65, TD Loss: 7.735610485076904\n",
            "--------------------------\n"
          ],
          "name": "stdout"
        },
        {
          "output_type": "stream",
          "text": [
            " 61%|██████    | 6100/10000 [1:03:57<50:09,  1.30it/s]"
          ],
          "name": "stderr"
        },
        {
          "output_type": "stream",
          "text": [
            "\n",
            "Current Episode: 6100, Total # Episodes: 6100\n",
            "(test) mean_reward: -101.5, TD Loss: 7.730395793914795\n",
            "--------------------------\n"
          ],
          "name": "stdout"
        },
        {
          "output_type": "stream",
          "text": [
            " 62%|██████▏   | 6200/10000 [1:04:59<1:01:29,  1.03it/s]"
          ],
          "name": "stderr"
        },
        {
          "output_type": "stream",
          "text": [
            "\n",
            "Current Episode: 6200, Total # Episodes: 6200\n",
            "(test) mean_reward: -187.25, TD Loss: 7.716755390167236\n",
            "--------------------------\n"
          ],
          "name": "stdout"
        },
        {
          "output_type": "stream",
          "text": [
            " 63%|██████▎   | 6300/10000 [1:06:02<48:24,  1.27it/s]"
          ],
          "name": "stderr"
        },
        {
          "output_type": "stream",
          "text": [
            "\n",
            "Current Episode: 6300, Total # Episodes: 6300\n",
            "(test) mean_reward: -104.6, TD Loss: 7.702671527862549\n",
            "--------------------------\n"
          ],
          "name": "stdout"
        },
        {
          "output_type": "stream",
          "text": [
            " 64%|██████▍   | 6400/10000 [1:07:07<46:14,  1.30it/s]"
          ],
          "name": "stderr"
        },
        {
          "output_type": "stream",
          "text": [
            "\n",
            "Current Episode: 6400, Total # Episodes: 6400\n",
            "(test) mean_reward: -103.2, TD Loss: 7.695835113525391\n",
            "--------------------------\n"
          ],
          "name": "stdout"
        },
        {
          "output_type": "stream",
          "text": [
            " 65%|██████▌   | 6500/10000 [1:08:08<46:32,  1.25it/s]"
          ],
          "name": "stderr"
        },
        {
          "output_type": "stream",
          "text": [
            "\n",
            "Current Episode: 6500, Total # Episodes: 6500\n",
            "(test) mean_reward: -104.5, TD Loss: 7.679422855377197\n",
            "--------------------------\n"
          ],
          "name": "stdout"
        },
        {
          "output_type": "stream",
          "text": [
            " 66%|██████▌   | 6600/10000 [1:09:10<46:06,  1.23it/s]"
          ],
          "name": "stderr"
        },
        {
          "output_type": "stream",
          "text": [
            "\n",
            "Current Episode: 6600, Total # Episodes: 6600\n",
            "(test) mean_reward: -101.75, TD Loss: 7.665575981140137\n",
            "--------------------------\n"
          ],
          "name": "stdout"
        },
        {
          "output_type": "stream",
          "text": [
            " 67%|██████▋   | 6700/10000 [1:10:12<42:18,  1.30it/s]"
          ],
          "name": "stderr"
        },
        {
          "output_type": "stream",
          "text": [
            "\n",
            "Current Episode: 6700, Total # Episodes: 6700\n",
            "(test) mean_reward: -102.35, TD Loss: 7.652542591094971\n",
            "--------------------------\n"
          ],
          "name": "stdout"
        },
        {
          "output_type": "stream",
          "text": [
            " 68%|██████▊   | 6800/10000 [1:11:14<42:15,  1.26it/s]"
          ],
          "name": "stderr"
        },
        {
          "output_type": "stream",
          "text": [
            "\n",
            "Current Episode: 6800, Total # Episodes: 6800\n",
            "(test) mean_reward: -105.85, TD Loss: 7.635776519775391\n",
            "--------------------------\n"
          ],
          "name": "stdout"
        },
        {
          "output_type": "stream",
          "text": [
            " 69%|██████▉   | 6900/10000 [1:12:16<39:01,  1.32it/s]"
          ],
          "name": "stderr"
        },
        {
          "output_type": "stream",
          "text": [
            "\n",
            "Current Episode: 6900, Total # Episodes: 6900\n",
            "(test) mean_reward: -99.9, TD Loss: 7.616232872009277\n",
            "--------------------------\n"
          ],
          "name": "stdout"
        },
        {
          "output_type": "stream",
          "text": [
            " 70%|███████   | 7000/10000 [1:13:19<38:32,  1.30it/s]"
          ],
          "name": "stderr"
        },
        {
          "output_type": "stream",
          "text": [
            "\n",
            "Current Episode: 7000, Total # Episodes: 7000\n",
            "(test) mean_reward: -109.1, TD Loss: 7.594411849975586\n",
            "--------------------------\n"
          ],
          "name": "stdout"
        },
        {
          "output_type": "stream",
          "text": [
            " 71%|███████   | 7100/10000 [1:14:23<41:01,  1.18it/s]"
          ],
          "name": "stderr"
        },
        {
          "output_type": "stream",
          "text": [
            "\n",
            "Current Episode: 7100, Total # Episodes: 7100\n",
            "(test) mean_reward: -121.8, TD Loss: 7.585550785064697\n",
            "--------------------------\n"
          ],
          "name": "stdout"
        },
        {
          "output_type": "stream",
          "text": [
            " 72%|███████▏  | 7200/10000 [1:15:30<38:15,  1.22it/s]"
          ],
          "name": "stderr"
        },
        {
          "output_type": "stream",
          "text": [
            "\n",
            "Current Episode: 7200, Total # Episodes: 7200\n",
            "(test) mean_reward: -100.85, TD Loss: 7.580945014953613\n",
            "--------------------------\n"
          ],
          "name": "stdout"
        },
        {
          "output_type": "stream",
          "text": [
            " 73%|███████▎  | 7300/10000 [1:16:34<36:37,  1.23it/s]"
          ],
          "name": "stderr"
        },
        {
          "output_type": "stream",
          "text": [
            "\n",
            "Current Episode: 7300, Total # Episodes: 7300\n",
            "(test) mean_reward: -99.8, TD Loss: 7.57492733001709\n",
            "--------------------------\n"
          ],
          "name": "stdout"
        },
        {
          "output_type": "stream",
          "text": [
            " 74%|███████▍  | 7400/10000 [1:17:35<34:17,  1.26it/s]"
          ],
          "name": "stderr"
        },
        {
          "output_type": "stream",
          "text": [
            "\n",
            "Current Episode: 7400, Total # Episodes: 7400\n",
            "(test) mean_reward: -103.25, TD Loss: 7.556655406951904\n",
            "--------------------------\n"
          ],
          "name": "stdout"
        },
        {
          "output_type": "stream",
          "text": [
            " 75%|███████▌  | 7500/10000 [1:18:37<32:14,  1.29it/s]"
          ],
          "name": "stderr"
        },
        {
          "output_type": "stream",
          "text": [
            "\n",
            "Current Episode: 7500, Total # Episodes: 7500\n",
            "(test) mean_reward: -101.65, TD Loss: 7.532825946807861\n",
            "--------------------------\n"
          ],
          "name": "stdout"
        },
        {
          "output_type": "stream",
          "text": [
            " 76%|███████▌  | 7600/10000 [1:19:38<30:40,  1.30it/s]"
          ],
          "name": "stderr"
        },
        {
          "output_type": "stream",
          "text": [
            "\n",
            "Current Episode: 7600, Total # Episodes: 7600\n",
            "(test) mean_reward: -98.1, TD Loss: 7.505260944366455\n",
            "--------------------------\n"
          ],
          "name": "stdout"
        },
        {
          "output_type": "stream",
          "text": [
            " 77%|███████▋  | 7700/10000 [1:20:41<31:00,  1.24it/s]"
          ],
          "name": "stderr"
        },
        {
          "output_type": "stream",
          "text": [
            "\n",
            "Current Episode: 7700, Total # Episodes: 7700\n",
            "(test) mean_reward: -99.95, TD Loss: 7.477555751800537\n",
            "--------------------------\n"
          ],
          "name": "stdout"
        },
        {
          "output_type": "stream",
          "text": [
            " 78%|███████▊  | 7800/10000 [1:21:48<32:31,  1.13it/s]"
          ],
          "name": "stderr"
        },
        {
          "output_type": "stream",
          "text": [
            "\n",
            "Current Episode: 7800, Total # Episodes: 7800\n",
            "(test) mean_reward: -123.0, TD Loss: 7.461531639099121\n",
            "--------------------------\n"
          ],
          "name": "stdout"
        },
        {
          "output_type": "stream",
          "text": [
            " 79%|███████▉  | 7900/10000 [1:22:51<30:47,  1.14it/s]"
          ],
          "name": "stderr"
        },
        {
          "output_type": "stream",
          "text": [
            "\n",
            "Current Episode: 7900, Total # Episodes: 7900\n",
            "(test) mean_reward: -99.25, TD Loss: 7.452201843261719\n",
            "--------------------------\n"
          ],
          "name": "stdout"
        },
        {
          "output_type": "stream",
          "text": [
            " 80%|████████  | 8000/10000 [1:23:56<28:04,  1.19it/s]"
          ],
          "name": "stderr"
        },
        {
          "output_type": "stream",
          "text": [
            "\n",
            "Current Episode: 8000, Total # Episodes: 8000\n",
            "(test) mean_reward: -99.1, TD Loss: 7.4482245445251465\n",
            "--------------------------\n"
          ],
          "name": "stdout"
        },
        {
          "output_type": "stream",
          "text": [
            " 81%|████████  | 8100/10000 [1:25:03<25:57,  1.22it/s]"
          ],
          "name": "stderr"
        },
        {
          "output_type": "stream",
          "text": [
            "\n",
            "Current Episode: 8100, Total # Episodes: 8100\n",
            "(test) mean_reward: -105.6, TD Loss: 7.454124450683594\n",
            "--------------------------\n"
          ],
          "name": "stdout"
        },
        {
          "output_type": "stream",
          "text": [
            " 82%|████████▏ | 8200/10000 [1:26:05<22:53,  1.31it/s]"
          ],
          "name": "stderr"
        },
        {
          "output_type": "stream",
          "text": [
            "\n",
            "Current Episode: 8200, Total # Episodes: 8200\n",
            "(test) mean_reward: -101.0, TD Loss: 7.4597249031066895\n",
            "--------------------------\n"
          ],
          "name": "stdout"
        },
        {
          "output_type": "stream",
          "text": [
            " 83%|████████▎ | 8300/10000 [1:27:09<23:24,  1.21it/s]"
          ],
          "name": "stderr"
        },
        {
          "output_type": "stream",
          "text": [
            "\n",
            "Current Episode: 8300, Total # Episodes: 8300\n",
            "(test) mean_reward: -104.25, TD Loss: 7.457837104797363\n",
            "--------------------------\n"
          ],
          "name": "stdout"
        },
        {
          "output_type": "stream",
          "text": [
            " 84%|████████▍ | 8400/10000 [1:28:12<21:18,  1.25it/s]"
          ],
          "name": "stderr"
        },
        {
          "output_type": "stream",
          "text": [
            "\n",
            "Current Episode: 8400, Total # Episodes: 8400\n",
            "(test) mean_reward: -99.95, TD Loss: 7.453219890594482\n",
            "--------------------------\n"
          ],
          "name": "stdout"
        },
        {
          "output_type": "stream",
          "text": [
            " 85%|████████▌ | 8500/10000 [1:29:14<19:25,  1.29it/s]"
          ],
          "name": "stderr"
        },
        {
          "output_type": "stream",
          "text": [
            "\n",
            "Current Episode: 8500, Total # Episodes: 8500\n",
            "(test) mean_reward: -99.2, TD Loss: 7.450803279876709\n",
            "--------------------------\n"
          ],
          "name": "stdout"
        },
        {
          "output_type": "stream",
          "text": [
            " 86%|████████▌ | 8600/10000 [1:30:13<17:40,  1.32it/s]"
          ],
          "name": "stderr"
        },
        {
          "output_type": "stream",
          "text": [
            "\n",
            "Current Episode: 8600, Total # Episodes: 8600\n",
            "(test) mean_reward: -99.5, TD Loss: 7.440175533294678\n",
            "--------------------------\n"
          ],
          "name": "stdout"
        },
        {
          "output_type": "error",
          "ename": "KeyboardInterrupt",
          "evalue": "ignored",
          "traceback": [
            "\u001b[0;31m---------------------------------------------------------------------------\u001b[0m",
            "\u001b[0;31mKeyboardInterrupt\u001b[0m                         Traceback (most recent call last)",
            "\u001b[0;32m<ipython-input-23-407749c1f314>\u001b[0m in \u001b[0;36m<module>\u001b[0;34m()\u001b[0m\n\u001b[1;32m      2\u001b[0m \u001b[0mbatch_size\u001b[0m \u001b[0;34m=\u001b[0m \u001b[0;36m32\u001b[0m\u001b[0;34m\u001b[0m\u001b[0;34m\u001b[0m\u001b[0m\n\u001b[1;32m      3\u001b[0m \u001b[0mnum_episodes\u001b[0m \u001b[0;34m=\u001b[0m \u001b[0;36m10000\u001b[0m\u001b[0;34m\u001b[0m\u001b[0;34m\u001b[0m\u001b[0m\n\u001b[0;32m----> 4\u001b[0;31m \u001b[0mtrain_rewards\u001b[0m\u001b[0;34m,\u001b[0m \u001b[0mtest_reward\u001b[0m \u001b[0;34m=\u001b[0m \u001b[0mdqn_agent\u001b[0m\u001b[0;34m.\u001b[0m\u001b[0mtrain\u001b[0m\u001b[0;34m(\u001b[0m\u001b[0mmodel\u001b[0m\u001b[0;34m,\u001b[0m \u001b[0moptimizer\u001b[0m\u001b[0;34m,\u001b[0m \u001b[0mnum_episodes\u001b[0m\u001b[0;34m,\u001b[0m \u001b[0mbatch_size\u001b[0m\u001b[0;34m)\u001b[0m\u001b[0;34m\u001b[0m\u001b[0;34m\u001b[0m\u001b[0m\n\u001b[0m",
            "\u001b[0;32m<ipython-input-3-b2eaf2b9dd75>\u001b[0m in \u001b[0;36mtrain\u001b[0;34m(self, model, optimizer, num_episodes, batch_size)\u001b[0m\n\u001b[1;32m    128\u001b[0m \u001b[0;34m\u001b[0m\u001b[0m\n\u001b[1;32m    129\u001b[0m                                 \u001b[0;31m# Compute TD Loss\u001b[0m\u001b[0;34m\u001b[0m\u001b[0;34m\u001b[0m\u001b[0;34m\u001b[0m\u001b[0m\n\u001b[0;32m--> 130\u001b[0;31m                                 \u001b[0mtd_loss\u001b[0m\u001b[0;34m.\u001b[0m\u001b[0mappend\u001b[0m\u001b[0;34m(\u001b[0m\u001b[0mtorch\u001b[0m\u001b[0;34m.\u001b[0m\u001b[0msum\u001b[0m\u001b[0;34m(\u001b[0m\u001b[0mtorch\u001b[0m\u001b[0;34m.\u001b[0m\u001b[0mabsolute\u001b[0m\u001b[0;34m(\u001b[0m\u001b[0mpredictions\u001b[0m \u001b[0;34m-\u001b[0m \u001b[0mq_values\u001b[0m\u001b[0;34m)\u001b[0m\u001b[0;34m)\u001b[0m\u001b[0;34m.\u001b[0m\u001b[0mdetach\u001b[0m\u001b[0;34m(\u001b[0m\u001b[0;34m)\u001b[0m\u001b[0;34m.\u001b[0m\u001b[0mcpu\u001b[0m\u001b[0;34m(\u001b[0m\u001b[0;34m)\u001b[0m\u001b[0;34m.\u001b[0m\u001b[0mnumpy\u001b[0m\u001b[0;34m(\u001b[0m\u001b[0;34m)\u001b[0m\u001b[0;34m)\u001b[0m\u001b[0;34m\u001b[0m\u001b[0;34m\u001b[0m\u001b[0m\n\u001b[0m\u001b[1;32m    131\u001b[0m \u001b[0;34m\u001b[0m\u001b[0m\n\u001b[1;32m    132\u001b[0m                                 \u001b[0mstate\u001b[0m \u001b[0;34m=\u001b[0m \u001b[0mnext_state\u001b[0m\u001b[0;34m\u001b[0m\u001b[0;34m\u001b[0m\u001b[0m\n",
            "\u001b[0;31mKeyboardInterrupt\u001b[0m: "
          ]
        }
      ]
    },
    {
      "cell_type": "code",
      "metadata": {
        "id": "FW6RYjGI9Vn0"
      },
      "source": [
        "  for param_group in optimizer.param_groups:\n",
        "    param_group['lr'] = 1e-3"
      ],
      "execution_count": null,
      "outputs": []
    },
    {
      "cell_type": "markdown",
      "metadata": {
        "id": "7xvCPrROuVk_"
      },
      "source": [
        "#Cartpole Result"
      ]
    },
    {
      "cell_type": "code",
      "metadata": {
        "id": "QhkjbD30Yeqx",
        "outputId": "c8b668ad-9e61-43fd-aa23-5232a301409c",
        "colab": {
          "base_uri": "https://localhost:8080/",
          "height": 228
        }
      },
      "source": [
        ""
      ],
      "execution_count": null,
      "outputs": [
        {
          "output_type": "display_data",
          "data": {
            "image/png": "[encoded data removed]",
            "text/plain": [
              "<Figure size 1440x216 with 1 Axes>"
            ]
          },
          "metadata": {
            "tags": [],
            "needs_background": "light"
          }
        }
      ]
    },
    {
      "cell_type": "markdown",
      "metadata": {
        "id": "9GqUwlXeu4Ks"
      },
      "source": [
        "#Mountain Car Env"
      ]
    },
    {
      "cell_type": "code",
      "metadata": {
        "id": "3a7wu6tni4n5"
      },
      "source": [
        "environments = ['CartPole-v0', 'MountainCar-v0']\n",
        "env = gym.make(environments[1])\n",
        "print(env.observation_space)\n",
        "print(env.observation_space.sample().size)\n",
        "dqn_agent = DQN_Agent(env)\n",
        "train_reward, test_reward = dqn_agent.train()\n",
        "x = np.array(list(range(1, len(test_reward) + 1)))\n",
        "x = x*100\n",
        "axes = plt.gca()\n",
        "axes.set_ylim([0,200])\n",
        "plt.ylabel('Reward')\n",
        "plt.xlabel('Episodes')\n",
        "plt.plot(x, test_reward,  marker='o', color='r', \n",
        "label='Square')\n",
        "plt.savefig('Avg R MountainCar')"
      ],
      "execution_count": null,
      "outputs": []
    },
    {
      "cell_type": "code",
      "metadata": {
        "id": "EJ7-JtlAvz-Q",
        "outputId": "f849875d-2328-40a7-b1ec-4c40727f26cb",
        "colab": {
          "base_uri": "https://localhost:8080/",
          "height": 350
        }
      },
      "source": [
        "x = np.array(list(range(1, len(model.mean_rewards) + 1)))\n",
        "x = x*100\n",
        "axes = plt.gca()\n",
        "axes.set_ylim([-210, -90])\n",
        "axes.set_xlim([0, 10000])\n",
        "plt.rcParams[\"figure.figsize\"] = (40,5)\n",
        "plt.ylabel('Reward')\n",
        "plt.xlabel('Episodes')\n",
        "plt.title('Average Cummulative reward Mountain Car')\n",
        "plt.plot(x, model.mean_rewards)\n",
        "# plt.plot(model.td_loss)\n",
        "plt.savefig('Avg R Cartpole')"
      ],
      "execution_count": 33,
      "outputs": [
        {
          "output_type": "display_data",
          "data": {
            "image/png": "[encoded data removed]",
            "text/plain": [
              "<Figure size 2880x360 with 1 Axes>"
            ]
          },
          "metadata": {
            "tags": [],
            "needs_background": "light"
          }
        }
      ]
    },
    {
      "cell_type": "code",
      "metadata": {
        "id": "8GJZWQmuiTx-",
        "outputId": "400cd9d5-46ec-42c9-d99e-bbf7f4f7c33b",
        "colab": {
          "base_uri": "https://localhost:8080/"
        }
      },
      "source": [
        "print(model.mean_rewards)"
      ],
      "execution_count": null,
      "outputs": [
        {
          "output_type": "stream",
          "text": [
            "[-200.0, -200.0, -148.0, -200.0, -186.35, -103.95, -119.1, -139.95, -100.5, -133.05, -132.7, -187.75, -142.05, -200.0, -139.3, -179.65, -136.15, -154.8, -200.0, -172.75, -161.7, -175.7, -101.45, -121.6, -135.9, -111.3, -111.75, -179.15, -133.05, -132.9, -158.75, -197.2, -200.0, -152.6, -113.15, -178.35, -137.2, -168.5, -142.15, -182.05, -137.3, -200.0, -114.55, -200.0, -157.0, -200.0, -200.0, -200.0, -200.0, -200.0, -200.0, -142.95, -145.95, -130.15, -120.9, -124.0, -141.9, -126.9, -200.0, -135.95, -151.15, -135.05, -161.95, -183.1, -192.75, -152.45, -153.05, -165.85, -146.8, -114.35, -126.65, -148.8, -183.3, -168.85, -162.55, -134.15, -149.85, -113.0, -153.95, -136.2, -200.0, -131.2, -143.55, -200.0, -180.0, -200.0, -200.0, -137.35, -141.9, -159.65, -200.0, -194.8, -200.0, -153.25, -200.0, -137.75, -180.95, -183.0, -154.75, -154.95]\n"
          ],
          "name": "stdout"
        }
      ]
    },
    {
      "cell_type": "code",
      "metadata": {
        "id": "X-BY8tITiWgF",
        "outputId": "e9749e2d-3a35-4c9e-9fda-d29ff5e887a7",
        "colab": {
          "base_uri": "https://localhost:8080/",
          "height": 366
        }
      },
      "source": [
        "plt.ylabel('TD Error')\n",
        "plt.xlabel('Episodes')\n",
        "plt.title('TD Error Mountain Car')\n",
        "plt.plot(model.td_loss)"
      ],
      "execution_count": 32,
      "outputs": [
        {
          "output_type": "execute_result",
          "data": {
            "text/plain": [
              "[<matplotlib.lines.Line2D at 0x7fd666fbe4e0>]"
            ]
          },
          "metadata": {
            "tags": []
          },
          "execution_count": 32
        },
        {
          "output_type": "display_data",
          "data": {
            "image/png": "[encoded data removed]",
            "text/plain": [
              "<Figure size 2880x360 with 1 Axes>"
            ]
          },
          "metadata": {
            "tags": [],
            "needs_background": "light"
          }
        }
      ]
    },
    {
      "cell_type": "code",
      "metadata": {
        "id": "N0FzppUvbfJ1"
      },
      "source": [
        ""
      ],
      "execution_count": null,
      "outputs": []
    }
  ]
}